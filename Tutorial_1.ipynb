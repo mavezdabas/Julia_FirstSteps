{
 "cells": [
  {
   "cell_type": "code",
   "execution_count": 1,
   "metadata": {
    "collapsed": false
   },
   "outputs": [
    {
     "data": {
      "text/plain": [
       "3"
      ]
     },
     "execution_count": 1,
     "metadata": {},
     "output_type": "execute_result"
    }
   ],
   "source": [
    "## Starting with Julia\n",
    "α = 3"
   ]
  },
  {
   "cell_type": "code",
   "execution_count": null,
   "metadata": {
    "collapsed": true
   },
   "outputs": [],
   "source": [
    "α\n"
   ]
  },
  {
   "cell_type": "code",
   "execution_count": 3,
   "metadata": {
    "collapsed": false
   },
   "outputs": [
    {
     "data": {
      "text/plain": [
       "f (generic function with 1 method)"
      ]
     },
     "execution_count": 3,
     "metadata": {},
     "output_type": "execute_result"
    }
   ],
   "source": [
    "# We can build mathematical functions in julia just like in R but not\n",
    "# in Python\n",
    "\n",
    "f(x) = x^2 + x*2 + 2"
   ]
  },
  {
   "cell_type": "code",
   "execution_count": 4,
   "metadata": {
    "collapsed": false
   },
   "outputs": [
    {
     "data": {
      "text/plain": [
       "17"
      ]
     },
     "execution_count": 4,
     "metadata": {},
     "output_type": "execute_result"
    }
   ],
   "source": [
    "f(3)"
   ]
  },
  {
   "cell_type": "markdown",
   "metadata": {},
   "source": [
    "    ### Variable Substituation\n",
    "    #### In this we can just use $ to mark to the object or value we are referrring to."
   ]
  },
  {
   "cell_type": "code",
   "execution_count": 6,
   "metadata": {
    "collapsed": false
   },
   "outputs": [
    {
     "name": "stdout",
     "output_type": "stream",
     "text": [
      "Hello Mavez\n"
     ]
    }
   ],
   "source": [
    "name = \"Mavez\"\n",
    "greetings = \"Hello $name\"\n",
    "println(greetings)"
   ]
  },
  {
   "cell_type": "code",
   "execution_count": 7,
   "metadata": {
    "collapsed": false
   },
   "outputs": [
    {
     "name": "stdout",
     "output_type": "stream",
     "text": [
      "The sin of 3 is 0.1411200080598672\n"
     ]
    }
   ],
   "source": [
    "μ = 3\n",
    "println(\"The sin of $μ is $(sin(μ))\")"
   ]
  },
  {
   "cell_type": "markdown",
   "metadata": {},
   "source": [
    "### Numerical Types"
   ]
  },
  {
   "cell_type": "markdown",
   "metadata": {},
   "source": [
    "##### Q1- Calculate power of 10 using standard integers and BigInts"
   ]
  },
  {
   "cell_type": "code",
   "execution_count": 9,
   "metadata": {
    "collapsed": false
   },
   "outputs": [
    {
     "name": "stdout",
     "output_type": "stream",
     "text": [
      "The power is now 100\n"
     ]
    }
   ],
   "source": [
    "number  = int64(2)\n",
    "power = int64(10^2)\n",
    "println(\"The power is now $power\")"
   ]
  },
  {
   "cell_type": "code",
   "execution_count": 8,
   "metadata": {
    "collapsed": false
   },
   "outputs": [
    {
     "data": {
      "text/plain": [
       "100"
      ]
     },
     "execution_count": 8,
     "metadata": {},
     "output_type": "execute_result"
    }
   ],
   "source": [
    "10^2"
   ]
  },
  {
   "cell_type": "code",
   "execution_count": 15,
   "metadata": {
    "collapsed": false
   },
   "outputs": [
    {
     "data": {
      "text/plain": [
       "-8446744073709551616"
      ]
     },
     "execution_count": 15,
     "metadata": {},
     "output_type": "execute_result"
    }
   ],
   "source": [
    "ten = big(10)\n",
    "10^19 # This will give random value as numbers exceed the floating \n",
    "# value"
   ]
  },
  {
   "cell_type": "code",
   "execution_count": 16,
   "metadata": {
    "collapsed": false
   },
   "outputs": [
    {
     "data": {
      "text/plain": [
       "10000000000000000000"
      ]
     },
     "execution_count": 16,
     "metadata": {},
     "output_type": "execute_result"
    }
   ],
   "source": [
    "ten^19 # This will work fine"
   ]
  },
  {
   "cell_type": "markdown",
   "metadata": {},
   "source": [
    "### Complex \n",
    "##### Imaginary part with im"
   ]
  },
  {
   "cell_type": "code",
   "execution_count": 18,
   "metadata": {
    "collapsed": false
   },
   "outputs": [
    {
     "data": {
      "text/plain": [
       "35.0 + 3.5im"
      ]
     },
     "execution_count": 18,
     "metadata": {},
     "output_type": "execute_result"
    }
   ],
   "source": [
    "a = 7\n",
    "c = (5 + .5im) * a\n"
   ]
  },
  {
   "cell_type": "markdown",
   "metadata": {},
   "source": [
    "##### Every thing is function in Julia"
   ]
  },
  {
   "cell_type": "code",
   "execution_count": 19,
   "metadata": {
    "collapsed": false
   },
   "outputs": [
    {
     "data": {
      "text/plain": [
       "7"
      ]
     },
     "execution_count": 19,
     "metadata": {},
     "output_type": "execute_result"
    }
   ],
   "source": [
    "+(3+4)"
   ]
  },
  {
   "cell_type": "code",
   "execution_count": 20,
   "metadata": {
    "collapsed": false
   },
   "outputs": [
    {
     "data": {
      "text/plain": [
       "// (generic function with 8 methods)"
      ]
     },
     "execution_count": 20,
     "metadata": {},
     "output_type": "execute_result"
    }
   ],
   "source": [
    "# generic functions\n",
    "//"
   ]
  },
  {
   "cell_type": "code",
   "execution_count": 21,
   "metadata": {
    "collapsed": false
   },
   "outputs": [
    {
     "data": {
      "text/html": [
       "8 methods for generic function <b>//</b>:<ul><li> //(n::<b>Integer</b>,d::<b>Integer</b>) at <a href=\"https://github.com/JuliaLang/julia/tree/31efe690bea1fd8f4e44692e205fb72d34f50ad3/base/rational.jl#L15\" target=\"_blank\">rational.jl:15</a><li> //(x::<b>Rational{T<:Integer}</b>,y::<b>Integer</b>) at <a href=\"https://github.com/JuliaLang/julia/tree/31efe690bea1fd8f4e44692e205fb72d34f50ad3/base/rational.jl#L16\" target=\"_blank\">rational.jl:16</a><li> //(x::<b>Integer</b>,y::<b>Rational{T<:Integer}</b>) at <a href=\"https://github.com/JuliaLang/julia/tree/31efe690bea1fd8f4e44692e205fb72d34f50ad3/base/rational.jl#L17\" target=\"_blank\">rational.jl:17</a><li> //(x::<b>Rational{T<:Integer}</b>,y::<b>Rational{T<:Integer}</b>) at <a href=\"https://github.com/JuliaLang/julia/tree/31efe690bea1fd8f4e44692e205fb72d34f50ad3/base/rational.jl#L18\" target=\"_blank\">rational.jl:18</a><li> //(x::<b>Complex{T<:Real}</b>,y::<b>Real</b>) at <a href=\"https://github.com/JuliaLang/julia/tree/31efe690bea1fd8f4e44692e205fb72d34f50ad3/base/rational.jl#L19\" target=\"_blank\">rational.jl:19</a><li> //(x::<b>Real</b>,y::<b>Complex{T<:Real}</b>) at <a href=\"https://github.com/JuliaLang/julia/tree/31efe690bea1fd8f4e44692e205fb72d34f50ad3/base/rational.jl#L20\" target=\"_blank\">rational.jl:20</a><li> //(x::<b>Complex{T<:Real}</b>,y::<b>Complex{T<:Real}</b>) at <a href=\"https://github.com/JuliaLang/julia/tree/31efe690bea1fd8f4e44692e205fb72d34f50ad3/base/rational.jl#L23\" target=\"_blank\">rational.jl:23</a><li> //(X::<b>AbstractArray{T,N}</b>,y::<b>Number</b>) at <a href=\"https://github.com/JuliaLang/julia/tree/31efe690bea1fd8f4e44692e205fb72d34f50ad3/base/rational.jl#L28\" target=\"_blank\">rational.jl:28</a></ul>"
      ],
      "text/plain": [
       "# 8 methods for generic function \"//\":\n",
       "//(n::Integer,d::Integer) at rational.jl:15\n",
       "//(x::Rational{T<:Integer},y::Integer) at rational.jl:16\n",
       "//(x::Integer,y::Rational{T<:Integer}) at rational.jl:17\n",
       "//(x::Rational{T<:Integer},y::Rational{T<:Integer}) at rational.jl:18\n",
       "//(x::Complex{T<:Real},y::Real) at rational.jl:19\n",
       "//(x::Real,y::Complex{T<:Real}) at rational.jl:20\n",
       "//(x::Complex{T<:Real},y::Complex{T<:Real}) at rational.jl:23\n",
       "//(X::AbstractArray{T,N},y::Number) at rational.jl:28"
      ]
     },
     "execution_count": 21,
     "metadata": {},
     "output_type": "execute_result"
    }
   ],
   "source": [
    "methods(//)"
   ]
  },
  {
   "cell_type": "markdown",
   "metadata": {},
   "source": [
    "### List and numpy Arrays\n",
    "###### ; hides the answer"
   ]
  },
  {
   "cell_type": "code",
   "execution_count": 22,
   "metadata": {
    "collapsed": false
   },
   "outputs": [
    {
     "data": {
      "text/plain": [
       "3-element Array{Int64,1}:\n",
       " 1\n",
       " 3\n",
       " 5"
      ]
     },
     "execution_count": 22,
     "metadata": {},
     "output_type": "execute_result"
    }
   ],
   "source": [
    "l = [1,3,5]"
   ]
  },
  {
   "cell_type": "code",
   "execution_count": 23,
   "metadata": {
    "collapsed": false
   },
   "outputs": [
    {
     "data": {
      "text/plain": [
       "Array{Int64,1}"
      ]
     },
     "execution_count": 23,
     "metadata": {},
     "output_type": "execute_result"
    }
   ],
   "source": [
    "typeof(l)"
   ]
  },
  {
   "cell_type": "code",
   "execution_count": null,
   "metadata": {
    "collapsed": true
   },
   "outputs": [],
   "source": [
    "##### Q2- Create an array with different type of elements in it. "
   ]
  },
  {
   "cell_type": "code",
   "execution_count": 24,
   "metadata": {
    "collapsed": false
   },
   "outputs": [
    {
     "data": {
      "text/plain": [
       "3-element Array{Float64,1}:\n",
       "   1.0 \n",
       "   3.55\n",
       " -65.0 "
      ]
     },
     "execution_count": 24,
     "metadata": {},
     "output_type": "execute_result"
    }
   ],
   "source": [
    "arr = [1,3.55,-65]\n",
    "## Promotes to float"
   ]
  },
  {
   "cell_type": "code",
   "execution_count": 30,
   "metadata": {
    "collapsed": false
   },
   "outputs": [
    {
     "data": {
      "text/plain": [
       "2-element Array{Any,1}:\n",
       " 1       \n",
       "  \"Hello\""
      ]
     },
     "execution_count": 30,
     "metadata": {},
     "output_type": "execute_result"
    }
   ],
   "source": [
    "arr1 = [1,\"Hello\"]\n",
    "# Array with type Any\n",
    "\n",
    "## double \"\" used to represent String\n"
   ]
  },
  {
   "cell_type": "code",
   "execution_count": 32,
   "metadata": {
    "collapsed": false
   },
   "outputs": [
    {
     "data": {
      "text/plain": [
       "3-element Array{Any,1}:\n",
       " 3            \n",
       " 4            \n",
       "  {32,\"Hello\"}"
      ]
     },
     "execution_count": 32,
     "metadata": {},
     "output_type": "execute_result"
    }
   ],
   "source": [
    "l = {3,4,[32,\"Hello\"]}"
   ]
  },
  {
   "cell_type": "markdown",
   "metadata": {},
   "source": [
    "### Indexing\n",
    "##### Julia works similarly to R interms of indentation"
   ]
  },
  {
   "cell_type": "code",
   "execution_count": 37,
   "metadata": {
    "collapsed": false
   },
   "outputs": [
    {
     "data": {
      "text/plain": [
       "9-element Array{Int64,1}:\n",
       "  1\n",
       "  2\n",
       "  4\n",
       "  4\n",
       "  5\n",
       "  5\n",
       " 55\n",
       "  5\n",
       "  5"
      ]
     },
     "execution_count": 37,
     "metadata": {},
     "output_type": "execute_result"
    }
   ],
   "source": [
    "mav = [1,2,4,4,5,5,55,5,5]\n",
    "mav[1:end]"
   ]
  },
  {
   "cell_type": "code",
   "execution_count": 38,
   "metadata": {
    "collapsed": false
   },
   "outputs": [
    {
     "data": {
      "text/plain": [
       "9-element Array{Int64,1}:\n",
       "   2\n",
       "   4\n",
       "   8\n",
       "   8\n",
       "  10\n",
       "  10\n",
       " 110\n",
       "  10\n",
       "  10"
      ]
     },
     "execution_count": 38,
     "metadata": {},
     "output_type": "execute_result"
    }
   ],
   "source": [
    "mav + mav"
   ]
  },
  {
   "cell_type": "code",
   "execution_count": 44,
   "metadata": {
    "collapsed": false
   },
   "outputs": [
    {
     "data": {
      "text/plain": [
       "4-element Array{Int64,1}:\n",
       " 1\n",
       " 2\n",
       " 3\n",
       " 6"
      ]
     },
     "execution_count": 44,
     "metadata": {},
     "output_type": "execute_result"
    }
   ],
   "source": [
    "num = [1,2,3]\n",
    "push!(num,6)"
   ]
  },
  {
   "cell_type": "code",
   "execution_count": 45,
   "metadata": {
    "collapsed": false
   },
   "outputs": [
    {
     "data": {
      "text/html": [
       "103-element Array{Method,1}:<ul><li> Message(a::<b>Array{T,N}</b>) at <a href=\"https://github.com/JuliaLang/ZMQ.jl/tree/b40123265706f10548ad97b74a46fd7c3602e0e2/src/ZMQ.jl#L434\" target=\"_blank\">/Users/mavezsinghdabas/.julia/v0.3/ZMQ/src/ZMQ.jl:434</a><li> -(A::<b>Array{T,N}</b>,B::<b>SparseMatrixCSC{Tv,Ti<:Integer}</b>) at <a href=\"https://github.com/JuliaLang/julia/tree/31efe690bea1fd8f4e44692e205fb72d34f50ad3/base/sparse/sparsematrix.jl#L650\" target=\"_blank\">sparse/sparsematrix.jl:650</a><li> -(A::<b>SparseMatrixCSC{Tv,Ti<:Integer}</b>,B::<b>Array{T,N}</b>) at <a href=\"https://github.com/JuliaLang/julia/tree/31efe690bea1fd8f4e44692e205fb72d34f50ad3/base/sparse/sparsematrix.jl#L648\" target=\"_blank\">sparse/sparsematrix.jl:648</a><li> length(a::<b>Array{T,N}</b>) at <a href=\"https://github.com/JuliaLang/julia/tree/31efe690bea1fd8f4e44692e205fb72d34f50ad3/base/array.jl#L21\" target=\"_blank\">array.jl:21</a><li> copy!<i>{T}</i>(dest::<b>Array{T,N}</b>,dsto::<b>Integer</b>,src::<b>Array{T,N}</b>,so::<b>Integer</b>,N::<b>Integer</b>) at <a href=\"https://github.com/JuliaLang/julia/tree/31efe690bea1fd8f4e44692e205fb72d34f50ad3/base/array.jl#L51\" target=\"_blank\">array.jl:51</a><li> copy!<i>{T}</i>(dest::<b>Array{T,N}</b>,src::<b>Array{T,N}</b>) at <a href=\"https://github.com/JuliaLang/julia/tree/31efe690bea1fd8f4e44692e205fb72d34f50ad3/base/array.jl#L57\" target=\"_blank\">array.jl:57</a><li> copy!(S::<b>SharedArray{T,N}</b>,A::<b>Array{T,N}</b>) at <a href=\"https://github.com/JuliaLang/julia/tree/31efe690bea1fd8f4e44692e205fb72d34f50ad3/base/sharedarray.jl#L290\" target=\"_blank\">sharedarray.jl:290</a><li> msync<i>{T}</i>(A::<b>Array{T,N}</b>) at <a href=\"https://github.com/JuliaLang/julia/tree/31efe690bea1fd8f4e44692e205fb72d34f50ad3/base/mmap.jl#L6\" target=\"_blank\">mmap.jl:6</a><li> serialize(s,a::<b>Array{T,N}</b>) at <a href=\"https://github.com/JuliaLang/julia/tree/31efe690bea1fd8f4e44692e205fb72d34f50ad3/base/serialize.jl#L119\" target=\"_blank\">serialize.jl:119</a><li> permutedims!<i>{T,N}</i>(P::<b>Array{T,N}</b>,B::<b>Union(SubArray{T,N,A<:DenseArray{T,N},I<:(Union(Int64,Range{Int64})...,)},DenseArray{T,N})</b>,perm) at <a href=\"https://github.com/JuliaLang/julia/tree/31efe690bea1fd8f4e44692e205fb72d34f50ad3/base/cartesian.jl#L100\" target=\"_blank\">cartesian.jl:100</a><li> unsafe_copy!<i>{T}</i>(dest::<b>Array{T,N}</b>,dsto,src::<b>Array{T,N}</b>,so,N) at <a href=\"https://github.com/JuliaLang/julia/tree/31efe690bea1fd8f4e44692e205fb72d34f50ad3/base/array.jl#L40\" target=\"_blank\">array.jl:40</a><li> .\\(A::<b>SparseMatrixCSC{Tv,Ti<:Integer}</b>,B::<b>Array{T,N}</b>) at <a href=\"https://github.com/JuliaLang/julia/tree/31efe690bea1fd8f4e44692e205fb72d34f50ad3/base/sparse/sparsematrix.jl#L665\" target=\"_blank\">sparse/sparsematrix.jl:665</a><li> .\\(A::<b>Array{T,N}</b>,B::<b>SparseMatrixCSC{Tv,Ti<:Integer}</b>) at <a href=\"https://github.com/JuliaLang/julia/tree/31efe690bea1fd8f4e44692e205fb72d34f50ad3/base/sparse/sparsematrix.jl#L666\" target=\"_blank\">sparse/sparsematrix.jl:666</a><li> ./(A::<b>SparseMatrixCSC{Tv,Ti<:Integer}</b>,B::<b>Array{T,N}</b>) at <a href=\"https://github.com/JuliaLang/julia/tree/31efe690bea1fd8f4e44692e205fb72d34f50ad3/base/sparse/sparsematrix.jl#L659\" target=\"_blank\">sparse/sparsematrix.jl:659</a><li> ./(A::<b>Array{T,N}</b>,B::<b>SparseMatrixCSC{Tv,Ti<:Integer}</b>) at <a href=\"https://github.com/JuliaLang/julia/tree/31efe690bea1fd8f4e44692e205fb72d34f50ad3/base/sparse/sparsematrix.jl#L660\" target=\"_blank\">sparse/sparsematrix.jl:660</a><li> setindex!<i>{T}</i>(A::<b>Array{T,N}</b>,X::<b>Array{T,N}</b>,I::<b>UnitRange{Int64}</b>) at <a href=\"https://github.com/JuliaLang/julia/tree/31efe690bea1fd8f4e44692e205fb72d34f50ad3/base/array.jl#L329\" target=\"_blank\">array.jl:329</a><li> setindex!(a::<b>Array{T,N}</b>,d::<b>DArray{T,N,A}</b>,I::<b>UnitRange{Int64}...</b>) at <a href=\"https://github.com/JuliaLang/julia/tree/31efe690bea1fd8f4e44692e205fb72d34f50ad3/base/darray.jl#L254\" target=\"_blank\">darray.jl:254</a><li> setindex!(a::<b>Array{T,N}</b>,s::<b>SubArray{T,N,D<:DArray{T,N,A},I<:(Union(Int64,Range{Int64})...,)}</b>,I::<b>UnitRange{Int64}...</b>) at <a href=\"https://github.com/JuliaLang/julia/tree/31efe690bea1fd8f4e44692e205fb72d34f50ad3/base/darray.jl#L265\" target=\"_blank\">darray.jl:265</a><li> setindex!(a::<b>Array{T,N}</b>,d::<b>Union(DArray{T,N,A},SubArray{T,N,D<:DArray{T,N,A},I<:(Union(Int64,Range{Int64})...,)})</b>,I::<b>Union(Int64,UnitRange{Int64})...</b>) at <a href=\"https://github.com/JuliaLang/julia/tree/31efe690bea1fd8f4e44692e205fb72d34f50ad3/base/darray.jl#L296\" target=\"_blank\">darray.jl:296</a><li> setindex!(A::<b>Array{T,N}</b>,X::<b>AbstractArray{T,N}</b>,I::<b>AbstractArray{Bool,1}</b>) at <a href=\"https://github.com/JuliaLang/julia/tree/31efe690bea1fd8f4e44692e205fb72d34f50ad3/base/array.jl#L382\" target=\"_blank\">array.jl:382</a><li> setindex!<i>{T<:Real}</i>(A::<b>Array{T,N}</b>,X::<b>AbstractArray{T,N}</b>,I::<b>AbstractArray{T<:Real,1}</b>) at <a href=\"https://github.com/JuliaLang/julia/tree/31efe690bea1fd8f4e44692e205fb72d34f50ad3/base/array.jl#L337\" target=\"_blank\">array.jl:337</a><li> setindex!(A::<b>Array{T,N}</b>,x,I::<b>AbstractArray{Bool,1}</b>) at <a href=\"https://github.com/JuliaLang/julia/tree/31efe690bea1fd8f4e44692e205fb72d34f50ad3/base/array.jl#L384\" target=\"_blank\">array.jl:384</a><li> setindex!<i>{T<:Real}</i>(A::<b>Array{T,N}</b>,x,I::<b>AbstractArray{T<:Real,1}</b>) at <a href=\"https://github.com/JuliaLang/julia/tree/31efe690bea1fd8f4e44692e205fb72d34f50ad3/base/array.jl#L322\" target=\"_blank\">array.jl:322</a><li> setindex!(A::<b>Array{T,N}</b>,X::<b>AbstractArray{T,N}</b>,I::<b>AbstractArray{Bool,N}</b>) at <a href=\"https://github.com/JuliaLang/julia/tree/31efe690bea1fd8f4e44692e205fb72d34f50ad3/base/array.jl#L383\" target=\"_blank\">array.jl:383</a><li> setindex!<i>{T}</i>(A::<b>Array{T,N}</b>,x) at <a href=\"https://github.com/JuliaLang/julia/tree/31efe690bea1fd8f4e44692e205fb72d34f50ad3/base/array.jl#L305\" target=\"_blank\">array.jl:305</a><li> setindex!<i>{T}</i>(A::<b>Array{T,N}</b>,x,i0::<b>Real</b>) at <a href=\"https://github.com/JuliaLang/julia/tree/31efe690bea1fd8f4e44692e205fb72d34f50ad3/base/array.jl#L307\" target=\"_blank\">array.jl:307</a><li> setindex!<i>{T}</i>(A::<b>Array{T,N}</b>,x,i0::<b>Real</b>,i1::<b>Real</b>) at <a href=\"https://github.com/JuliaLang/julia/tree/31efe690bea1fd8f4e44692e205fb72d34f50ad3/base/array.jl#L308\" target=\"_blank\">array.jl:308</a><li> setindex!<i>{T}</i>(A::<b>Array{T,N}</b>,x,i0::<b>Real</b>,i1::<b>Real</b>,i2::<b>Real</b>) at <a href=\"https://github.com/JuliaLang/julia/tree/31efe690bea1fd8f4e44692e205fb72d34f50ad3/base/array.jl#L310\" target=\"_blank\">array.jl:310</a><li> setindex!<i>{T}</i>(A::<b>Array{T,N}</b>,x,i0::<b>Real</b>,i1::<b>Real</b>,i2::<b>Real</b>,i3::<b>Real</b>) at <a href=\"https://github.com/JuliaLang/julia/tree/31efe690bea1fd8f4e44692e205fb72d34f50ad3/base/array.jl#L312\" target=\"_blank\">array.jl:312</a><li> setindex!<i>{T}</i>(A::<b>Array{T,N}</b>,x,i0::<b>Real</b>,i1::<b>Real</b>,i2::<b>Real</b>,i3::<b>Real</b>,i4::<b>Real</b>) at <a href=\"https://github.com/JuliaLang/julia/tree/31efe690bea1fd8f4e44692e205fb72d34f50ad3/base/array.jl#L314\" target=\"_blank\">array.jl:314</a><li> setindex!<i>{T}</i>(A::<b>Array{T,N}</b>,x,i0::<b>Real</b>,i1::<b>Real</b>,i2::<b>Real</b>,i3::<b>Real</b>,i4::<b>Real</b>,i5::<b>Real</b>) at <a href=\"https://github.com/JuliaLang/julia/tree/31efe690bea1fd8f4e44692e205fb72d34f50ad3/base/array.jl#L316\" target=\"_blank\">array.jl:316</a><li> setindex!<i>{T}</i>(A::<b>Array{T,N}</b>,x,i0::<b>Real</b>,i1::<b>Real</b>,i2::<b>Real</b>,i3::<b>Real</b>,i4::<b>Real</b>,i5::<b>Real</b>,I::<b>Real...</b>) at <a href=\"https://github.com/JuliaLang/julia/tree/31efe690bea1fd8f4e44692e205fb72d34f50ad3/base/array.jl#L318\" target=\"_blank\">array.jl:318</a><li> setindex!(A::<b>Array{T,N}</b>,x,I::<b>AbstractArray{Bool,N}</b>) at <a href=\"https://github.com/JuliaLang/julia/tree/31efe690bea1fd8f4e44692e205fb72d34f50ad3/base/array.jl#L385\" target=\"_blank\">array.jl:385</a><li> setindex!(A::<b>Array{T,N}</b>,x,J_1::<b>Union(Real,AbstractArray{T,N})</b>) at <a href=\"https://github.com/JuliaLang/julia/tree/31efe690bea1fd8f4e44692e205fb72d34f50ad3/base/multidimensional.jl#L61\" target=\"_blank\">multidimensional.jl:61</a><li> setindex!(A::<b>Array{T,N}</b>,x,J_1::<b>Union(Real,AbstractArray{T,N})</b>,J_2::<b>Union(Real,AbstractArray{T,N})</b>) at <a href=\"https://github.com/JuliaLang/julia/tree/31efe690bea1fd8f4e44692e205fb72d34f50ad3/base/multidimensional.jl#L61\" target=\"_blank\">multidimensional.jl:61</a><li> setindex!(A::<b>Array{T,N}</b>,x,J_1::<b>Union(Real,AbstractArray{T,N})</b>,J_2::<b>Union(Real,AbstractArray{T,N})</b>,J_3::<b>Union(Real,AbstractArray{T,N})</b>) at <a href=\"https://github.com/JuliaLang/julia/tree/31efe690bea1fd8f4e44692e205fb72d34f50ad3/base/multidimensional.jl#L61\" target=\"_blank\">multidimensional.jl:61</a><li> setindex!(A::<b>Array{T,N}</b>,x,J_1::<b>Union(Real,AbstractArray{T,N})</b>,J_2::<b>Union(Real,AbstractArray{T,N})</b>,J_3::<b>Union(Real,AbstractArray{T,N})</b>,J_4::<b>Union(Real,AbstractArray{T,N})</b>) at <a href=\"https://github.com/JuliaLang/julia/tree/31efe690bea1fd8f4e44692e205fb72d34f50ad3/base/multidimensional.jl#L61\" target=\"_blank\">multidimensional.jl:61</a><li> setindex!(A::<b>Array{T,N}</b>,x,J::<b>Union(Real,AbstractArray{T,N})...</b>) at <a href=\"https://github.com/JuliaLang/julia/tree/31efe690bea1fd8f4e44692e205fb72d34f50ad3/base/cartesian.jl#L100\" target=\"_blank\">cartesian.jl:100</a><li> sizeof(a::<b>Array{T,N}</b>) at <a href=\"https://github.com/JuliaLang/julia/tree/31efe690bea1fd8f4e44692e205fb72d34f50ad3/base/array.jl#L23\" target=\"_blank\">array.jl:23</a><li> reshape<i>{T,N}</i>(a::<b>Array{T,N}</b>,dims::<b>NTuple{N,Int64}</b>) at <a href=\"https://github.com/JuliaLang/julia/tree/31efe690bea1fd8f4e44692e205fb72d34f50ad3/base/array.jl#L88\" target=\"_blank\">array.jl:88</a><li> reshape<i>{T,N}</i>(a::<b>Array{T,N}</b>,dims::<b>NTuple{N,Int64}</b>) at <a href=\"https://github.com/JuliaLang/julia/tree/31efe690bea1fd8f4e44692e205fb72d34f50ad3/base/array.jl#L99\" target=\"_blank\">array.jl:99</a><li> .*(A::<b>SparseMatrixCSC{Tv,Ti<:Integer}</b>,B::<b>Array{T,N}</b>) at <a href=\"https://github.com/JuliaLang/julia/tree/31efe690bea1fd8f4e44692e205fb72d34f50ad3/base/sparse/sparsematrix.jl#L654\" target=\"_blank\">sparse/sparsematrix.jl:654</a><li> .*(A::<b>Array{T,N}</b>,B::<b>SparseMatrixCSC{Tv,Ti<:Integer}</b>) at <a href=\"https://github.com/JuliaLang/julia/tree/31efe690bea1fd8f4e44692e205fb72d34f50ad3/base/sparse/sparsematrix.jl#L655\" target=\"_blank\">sparse/sparsematrix.jl:655</a><li> flipdim<i>{T}</i>(A::<b>Array{T,N}</b>,d::<b>Integer</b>) at <a href=\"https://github.com/JuliaLang/julia/tree/31efe690bea1fd8f4e44692e205fb72d34f50ad3/base/array.jl#L878\" target=\"_blank\">array.jl:878</a><li> xdump(fn::<b>Function</b>,io::<b>IO</b>,x::<b>Array{T,N}</b>,n::<b>Int64</b>,indent) at <a href=\"https://github.com/JuliaLang/julia/tree/31efe690bea1fd8f4e44692e205fb72d34f50ad3/base/show.jl#L717\" target=\"_blank\">show.jl:717</a><li> size(a::<b>Array{T,N}</b>) at <a href=\"https://github.com/JuliaLang/julia/tree/31efe690bea1fd8f4e44692e205fb72d34f50ad3/base/array.jl#L18\" target=\"_blank\">array.jl:18</a><li> size(a::<b>Array{T,N}</b>,d) at <a href=\"https://github.com/JuliaLang/julia/tree/31efe690bea1fd8f4e44692e205fb72d34f50ad3/base/array.jl#L19\" target=\"_blank\">array.jl:19</a><li> .^(A::<b>SparseMatrixCSC{Tv,Ti<:Integer}</b>,B::<b>Array{T,N}</b>) at <a href=\"https://github.com/JuliaLang/julia/tree/31efe690bea1fd8f4e44692e205fb72d34f50ad3/base/sparse/sparsematrix.jl#L673\" target=\"_blank\">sparse/sparsematrix.jl:673</a><li> .^(A::<b>Array{T,N}</b>,B::<b>SparseMatrixCSC{Tv,Ti<:Integer}</b>) at <a href=\"https://github.com/JuliaLang/julia/tree/31efe690bea1fd8f4e44692e205fb72d34f50ad3/base/sparse/sparsematrix.jl#L674\" target=\"_blank\">sparse/sparsematrix.jl:674</a><li> getindex(a::<b>Array{T,N}</b>) at <a href=\"https://github.com/JuliaLang/julia/tree/31efe690bea1fd8f4e44692e205fb72d34f50ad3/base/array.jl#L244\" target=\"_blank\">array.jl:244</a><li> getindex(A::<b>Array{T,N}</b>,i0::<b>Real</b>) at <a href=\"https://github.com/JuliaLang/julia/tree/31efe690bea1fd8f4e44692e205fb72d34f50ad3/base/array.jl#L246\" target=\"_blank\">array.jl:246</a><li> getindex(A::<b>Array{T,N}</b>,i0::<b>Real</b>,i1::<b>Real</b>) at <a href=\"https://github.com/JuliaLang/julia/tree/31efe690bea1fd8f4e44692e205fb72d34f50ad3/base/array.jl#L247\" target=\"_blank\">array.jl:247</a><li> getindex(A::<b>Array{T,N}</b>,i0::<b>Real</b>,i1::<b>Real</b>,i2::<b>Real</b>) at <a href=\"https://github.com/JuliaLang/julia/tree/31efe690bea1fd8f4e44692e205fb72d34f50ad3/base/array.jl#L248\" target=\"_blank\">array.jl:248</a><li> getindex(A::<b>Array{T,N}</b>,i0::<b>Real</b>,i1::<b>Real</b>,i2::<b>Real</b>,i3::<b>Real</b>) at <a href=\"https://github.com/JuliaLang/julia/tree/31efe690bea1fd8f4e44692e205fb72d34f50ad3/base/array.jl#L250\" target=\"_blank\">array.jl:250</a><li> getindex(A::<b>Array{T,N}</b>,i0::<b>Real</b>,i1::<b>Real</b>,i2::<b>Real</b>,i3::<b>Real</b>,i4::<b>Real</b>) at <a href=\"https://github.com/JuliaLang/julia/tree/31efe690bea1fd8f4e44692e205fb72d34f50ad3/base/array.jl#L252\" target=\"_blank\">array.jl:252</a><li> getindex(A::<b>Array{T,N}</b>,i0::<b>Real</b>,i1::<b>Real</b>,i2::<b>Real</b>,i3::<b>Real</b>,i4::<b>Real</b>,i5::<b>Real</b>) at <a href=\"https://github.com/JuliaLang/julia/tree/31efe690bea1fd8f4e44692e205fb72d34f50ad3/base/array.jl#L254\" target=\"_blank\">array.jl:254</a><li> getindex(A::<b>Array{T,N}</b>,i0::<b>Real</b>,i1::<b>Real</b>,i2::<b>Real</b>,i3::<b>Real</b>,i4::<b>Real</b>,i5::<b>Real</b>,I::<b>Real...</b>) at <a href=\"https://github.com/JuliaLang/julia/tree/31efe690bea1fd8f4e44692e205fb72d34f50ad3/base/array.jl#L257\" target=\"_blank\">array.jl:257</a><li> getindex(A::<b>Array{T,N}</b>,I::<b>UnitRange{Int64}</b>) at <a href=\"https://github.com/JuliaLang/julia/tree/31efe690bea1fd8f4e44692e205fb72d34f50ad3/base/array.jl#L262\" target=\"_blank\">array.jl:262</a><li> getindex(A::<b>Array{T,N}</b>,I::<b>AbstractArray{Bool,1}</b>) at <a href=\"https://github.com/JuliaLang/julia/tree/31efe690bea1fd8f4e44692e205fb72d34f50ad3/base/array.jl#L300\" target=\"_blank\">array.jl:300</a><li> getindex<i>{T<:Real}</i>(A::<b>Array{T,N}</b>,I::<b>AbstractArray{T<:Real,1}</b>) at <a href=\"https://github.com/JuliaLang/julia/tree/31efe690bea1fd8f4e44692e205fb72d34f50ad3/base/array.jl#L271\" target=\"_blank\">array.jl:271</a><li> getindex(A::<b>Array{T,N}</b>,I::<b>AbstractArray{Bool,N}</b>) at <a href=\"https://github.com/JuliaLang/julia/tree/31efe690bea1fd8f4e44692e205fb72d34f50ad3/base/array.jl#L301\" target=\"_blank\">array.jl:301</a><li> getindex(A::<b>Array{T,N}</b>,I_1::<b>Union(Real,AbstractArray{T,1})</b>) at <a href=\"https://github.com/JuliaLang/julia/tree/31efe690bea1fd8f4e44692e205fb72d34f50ad3/base/multidimensional.jl#L49\" target=\"_blank\">multidimensional.jl:49</a><li> getindex(A::<b>Array{T,N}</b>,I_1::<b>Union(Real,AbstractArray{T,1})</b>,I_2::<b>Union(Real,AbstractArray{T,1})</b>) at <a href=\"https://github.com/JuliaLang/julia/tree/31efe690bea1fd8f4e44692e205fb72d34f50ad3/base/multidimensional.jl#L49\" target=\"_blank\">multidimensional.jl:49</a><li> getindex(A::<b>Array{T,N}</b>,I_1::<b>Union(Real,AbstractArray{T,1})</b>,I_2::<b>Union(Real,AbstractArray{T,1})</b>,I_3::<b>Union(Real,AbstractArray{T,1})</b>) at <a href=\"https://github.com/JuliaLang/julia/tree/31efe690bea1fd8f4e44692e205fb72d34f50ad3/base/multidimensional.jl#L49\" target=\"_blank\">multidimensional.jl:49</a><li> getindex(A::<b>Array{T,N}</b>,I_1::<b>Union(Real,AbstractArray{T,1})</b>,I_2::<b>Union(Real,AbstractArray{T,1})</b>,I_3::<b>Union(Real,AbstractArray{T,1})</b>,I_4::<b>Union(Real,AbstractArray{T,1})</b>) at <a href=\"https://github.com/JuliaLang/julia/tree/31efe690bea1fd8f4e44692e205fb72d34f50ad3/base/multidimensional.jl#L49\" target=\"_blank\">multidimensional.jl:49</a><li> getindex(A::<b>Array{T,N}</b>,I::<b>Union(Real,AbstractArray{T,1})...</b>) at <a href=\"https://github.com/JuliaLang/julia/tree/31efe690bea1fd8f4e44692e205fb72d34f50ad3/base/multidimensional.jl#L49\" target=\"_blank\">multidimensional.jl:49</a><li> read<i>{T,N}</i>(t::<b>UnixTerminal</b>,x::<b>Array{T,N}</b>) at <a href=\"https://github.com/JuliaLang/julia/tree/31efe690bea1fd8f4e44692e205fb72d34f50ad3/base/Terminals.jl#L189\" target=\"_blank\">Terminals.jl:189</a><li> read(from::<b>IOBuffer</b>,a::<b>Array{T,N}</b>) at <a href=\"https://github.com/JuliaLang/julia/tree/31efe690bea1fd8f4e44692e205fb72d34f50ad3/base/deprecated.jl#L26\" target=\"_blank\">deprecated.jl:26</a><li> read(s::<b>IOStream</b>,a::<b>Array{T,N}</b>) at <a href=\"https://github.com/JuliaLang/julia/tree/31efe690bea1fd8f4e44692e205fb72d34f50ad3/base/deprecated.jl#L26\" target=\"_blank\">deprecated.jl:26</a><li> read(this::<b>AsyncStream</b>,a::<b>Array{T,N}</b>) at <a href=\"https://github.com/JuliaLang/julia/tree/31efe690bea1fd8f4e44692e205fb72d34f50ad3/base/deprecated.jl#L26\" target=\"_blank\">deprecated.jl:26</a><li> read(f::<b>File</b>,a::<b>Array{T,N}</b>,nel) at <a href=\"https://github.com/JuliaLang/julia/tree/31efe690bea1fd8f4e44692e205fb72d34f50ad3/base/deprecated.jl#L26\" target=\"_blank\">deprecated.jl:26</a><li> read(f::<b>File</b>,a::<b>Array{T,N}</b>) at <a href=\"https://github.com/JuliaLang/julia/tree/31efe690bea1fd8f4e44692e205fb72d34f50ad3/base/deprecated.jl#L26\" target=\"_blank\">deprecated.jl:26</a><li> read(s::<b>IO</b>,a::<b>Array{T,N}</b>) at <a href=\"https://github.com/JuliaLang/julia/tree/31efe690bea1fd8f4e44692e205fb72d34f50ad3/base/deprecated.jl#L26\" target=\"_blank\">deprecated.jl:26</a><li> rand!<i>{T}</i>(A::<b>Array{T,N}</b>) at <a href=\"https://github.com/JuliaLang/julia/tree/31efe690bea1fd8f4e44692e205fb72d34f50ad3/base/random.jl#L129\" target=\"_blank\">random.jl:129</a><li> write(to::<b>IOBuffer</b>,a::<b>Array{T,N}</b>) at <a href=\"https://github.com/JuliaLang/julia/tree/31efe690bea1fd8f4e44692e205fb72d34f50ad3/base/iobuffer.jl#L262\" target=\"_blank\">iobuffer.jl:262</a><li> write<i>{T}</i>(s::<b>IOStream</b>,a::<b>Array{T,N}</b>) at <a href=\"https://github.com/JuliaLang/julia/tree/31efe690bea1fd8f4e44692e205fb72d34f50ad3/base/iostream.jl#L148\" target=\"_blank\">iostream.jl:148</a><li> write<i>{T}</i>(s::<b>AsyncStream</b>,a::<b>Array{T,N}</b>) at <a href=\"https://github.com/JuliaLang/julia/tree/31efe690bea1fd8f4e44692e205fb72d34f50ad3/base/stream.jl#L782\" target=\"_blank\">stream.jl:782</a><li> write<i>{T}</i>(f::<b>File</b>,a::<b>Array{T,N}</b>) at <a href=\"https://github.com/JuliaLang/julia/tree/31efe690bea1fd8f4e44692e205fb72d34f50ad3/base/fs.jl#L193\" target=\"_blank\">fs.jl:193</a><li> write<i>{T,N}</i>(t::<b>UnixTerminal</b>,a::<b>Array{T,N}</b>) at <a href=\"https://github.com/JuliaLang/julia/tree/31efe690bea1fd8f4e44692e205fb72d34f50ad3/base/Terminals.jl#L185\" target=\"_blank\">Terminals.jl:185</a><li> repeat<i>{T}</i>(A::<b>Array{T,N}</b>) at <a href=\"https://github.com/JuliaLang/julia/tree/31efe690bea1fd8f4e44692e205fb72d34f50ad3/base/abstractarray.jl#L1092\" target=\"_blank\">abstractarray.jl:1092</a><li> convert(::<b>Type{Ptr{None}}</b>,a::<b>Array{T,N}</b>) at <a href=\"https://github.com/JuliaLang/julia/tree/31efe690bea1fd8f4e44692e205fb72d34f50ad3/base/pointer.jl#L23\" target=\"_blank\">pointer.jl:23</a><li> convert<i>{T}</i>(::<b>Type{Ptr{T}}</b>,a::<b>Array{T,N}</b>) at <a href=\"https://github.com/JuliaLang/julia/tree/31efe690bea1fd8f4e44692e205fb72d34f50ad3/base/pointer.jl#L22\" target=\"_blank\">pointer.jl:22</a><li> convert<i>{T,n}</i>(::<b>Type{Array{T,n}}</b>,x::<b>Array{T,n}</b>) at <a href=\"https://github.com/JuliaLang/julia/tree/31efe690bea1fd8f4e44692e205fb72d34f50ad3/base/array.jl#L218\" target=\"_blank\">array.jl:218</a><li> convert<i>{T,n,S}</i>(::<b>Type{Array{T,n}}</b>,x::<b>Array{S,n}</b>) at <a href=\"https://github.com/JuliaLang/julia/tree/31efe690bea1fd8f4e44692e205fb72d34f50ad3/base/array.jl#L220\" target=\"_blank\">array.jl:220</a><li> convert<i>{T,n}</i>(::<b>Type{Array{T,N}}</b>,x::<b>Array{T,n}</b>) at <a href=\"https://github.com/JuliaLang/julia/tree/31efe690bea1fd8f4e44692e205fb72d34f50ad3/base/array.jl#L217\" target=\"_blank\">array.jl:217</a><li> convert<i>{T,n,S}</i>(::<b>Type{Array{T,N}}</b>,x::<b>Array{S,n}</b>) at <a href=\"https://github.com/JuliaLang/julia/tree/31efe690bea1fd8f4e44692e205fb72d34f50ad3/base/array.jl#L219\" target=\"_blank\">array.jl:219</a><li> convert<i>{TS,TA,N}</i>(::<b>Type{SharedArray{TS,N}}</b>,A::<b>Array{TA,N}</b>) at <a href=\"https://github.com/JuliaLang/julia/tree/31efe690bea1fd8f4e44692e205fb72d34f50ad3/base/sharedarray.jl#L142\" target=\"_blank\">sharedarray.jl:142</a><li> convert<i>{T}</i>(::<b>Type{SharedArray{T,N}}</b>,A::<b>Array{T,N}</b>) at <a href=\"https://github.com/JuliaLang/julia/tree/31efe690bea1fd8f4e44692e205fb72d34f50ad3/base/sharedarray.jl#L141\" target=\"_blank\">sharedarray.jl:141</a><li> convert(::<b>Type{SharedArray{T,N}}</b>,A::<b>Array{T,N}</b>) at <a href=\"https://github.com/JuliaLang/julia/tree/31efe690bea1fd8f4e44692e205fb72d34f50ad3/base/sharedarray.jl#L140\" target=\"_blank\">sharedarray.jl:140</a><li> convert<i>{T}</i>(p::<b>Type{Ptr{T}}</b>,a::<b>Array{T,N}</b>) at <a href=\"https://github.com/JuliaLang/julia/tree/31efe690bea1fd8f4e44692e205fb72d34f50ad3/base/deprecated.jl#L26\" target=\"_blank\">deprecated.jl:26</a><li> similar(a::<b>Array{T,N}</b>,T,dims::<b>(Int64...,)</b>) at <a href=\"https://github.com/JuliaLang/julia/tree/31efe690bea1fd8f4e44692e205fb72d34f50ad3/base/array.jl#L107\" target=\"_blank\">array.jl:107</a><li> read!(from::<b>IOBuffer</b>,a::<b>Array{T,N}</b>) at <a href=\"https://github.com/JuliaLang/julia/tree/31efe690bea1fd8f4e44692e205fb72d34f50ad3/base/iobuffer.jl#L55\" target=\"_blank\">iobuffer.jl:55</a><li> read!<i>{T}</i>(s::<b>IOStream</b>,a::<b>Array{T,N}</b>) at <a href=\"https://github.com/JuliaLang/julia/tree/31efe690bea1fd8f4e44692e205fb72d34f50ad3/base/iostream.jl#L192\" target=\"_blank\">iostream.jl:192</a><li> read!<i>{T}</i>(s::<b>AsyncStream</b>,a::<b>Array{T,N}</b>) at <a href=\"https://github.com/JuliaLang/julia/tree/31efe690bea1fd8f4e44692e205fb72d34f50ad3/base/stream.jl#L657\" target=\"_blank\">stream.jl:657</a><li> read!<i>{T}</i>(f::<b>File</b>,a::<b>Array{T,N}</b>) at <a href=\"https://github.com/JuliaLang/julia/tree/31efe690bea1fd8f4e44692e205fb72d34f50ad3/base/fs.jl#L219\" target=\"_blank\">fs.jl:219</a><li> read!<i>{T}</i>(f::<b>File</b>,a::<b>Array{T,N}</b>,nel) at <a href=\"https://github.com/JuliaLang/julia/tree/31efe690bea1fd8f4e44692e205fb72d34f50ad3/base/fs.jl#L219\" target=\"_blank\">fs.jl:219</a><li> read!<i>{T}</i>(s::<b>IO</b>,a::<b>Array{T,N}</b>) at <a href=\"https://github.com/JuliaLang/julia/tree/31efe690bea1fd8f4e44692e205fb72d34f50ad3/base/io.jl#L126\" target=\"_blank\">io.jl:126</a><li> +(A::<b>SparseMatrixCSC{Tv,Ti<:Integer}</b>,B::<b>Array{T,N}</b>) at <a href=\"https://github.com/JuliaLang/julia/tree/31efe690bea1fd8f4e44692e205fb72d34f50ad3/base/sparse/sparsematrix.jl#L643\" target=\"_blank\">sparse/sparsematrix.jl:643</a><li> +(A::<b>Array{T,N}</b>,B::<b>SparseMatrixCSC{Tv,Ti<:Integer}</b>) at <a href=\"https://github.com/JuliaLang/julia/tree/31efe690bea1fd8f4e44692e205fb72d34f50ad3/base/sparse/sparsematrix.jl#L645\" target=\"_blank\">sparse/sparsematrix.jl:645</a><li> reinterpret<i>{T,S}</i>(::<b>Type{T}</b>,a::<b>Array{S,N}</b>) at <a href=\"https://github.com/JuliaLang/julia/tree/31efe690bea1fd8f4e44692e205fb72d34f50ad3/base/array.jl#L66\" target=\"_blank\">array.jl:66</a><li> reinterpret<i>{T,S,N}</i>(::<b>Type{T}</b>,a::<b>Array{S,N}</b>,dims::<b>NTuple{N,Int64}</b>) at <a href=\"https://github.com/JuliaLang/julia/tree/31efe690bea1fd8f4e44692e205fb72d34f50ad3/base/array.jl#L73\" target=\"_blank\">array.jl:73</a><li> slicedim(A::<b>Array{T,N}</b>,d::<b>Integer</b>,i::<b>Integer</b>) at <a href=\"https://github.com/JuliaLang/julia/tree/31efe690bea1fd8f4e44692e205fb72d34f50ad3/base/array.jl#L847\" target=\"_blank\">array.jl:847</a><li> sub<i>{T,N}</i>(A::<b>Array{T,N}</b>,i::<b>(Range{Int64},)</b>) at <a href=\"https://github.com/JuliaLang/julia/tree/31efe690bea1fd8f4e44692e205fb72d34f50ad3/base/subarray.jl#L52\" target=\"_blank\">subarray.jl:52</a></ul>"
      ],
      "text/plain": [
       "103-element Array{Method,1}:\n",
       " Message(a::Array{T,N}) at /Users/mavezsinghdabas/.julia/v0.3/ZMQ/src/ZMQ.jl:434                                                                        \n",
       " -(A::Array{T,N},B::SparseMatrixCSC{Tv,Ti<:Integer}) at sparse/sparsematrix.jl:650                                                                      \n",
       " -(A::SparseMatrixCSC{Tv,Ti<:Integer},B::Array{T,N}) at sparse/sparsematrix.jl:648                                                                      \n",
       " length(a::Array{T,N}) at array.jl:21                                                                                                                   \n",
       " copy!{T}(dest::Array{T,N},dsto::Integer,src::Array{T,N},so::Integer,N::Integer) at array.jl:51                                                         \n",
       " copy!{T}(dest::Array{T,N},src::Array{T,N}) at array.jl:57                                                                                              \n",
       " copy!(S::SharedArray{T,N},A::Array{T,N}) at sharedarray.jl:290                                                                                         \n",
       " msync{T}(A::Array{T,N}) at mmap.jl:6                                                                                                                   \n",
       " serialize(s,a::Array{T,N}) at serialize.jl:119                                                                                                         \n",
       " permutedims!{T,N}(P::Array{T,N},B::Union(SubArray{T,N,A<:DenseArray{T,N},I<:(Union(Int64,Range{Int64})...,)},DenseArray{T,N}),perm) at cartesian.jl:100\n",
       " unsafe_copy!{T}(dest::Array{T,N},dsto,src::Array{T,N},so,N) at array.jl:40                                                                             \n",
       " .\\(A::SparseMatrixCSC{Tv,Ti<:Integer},B::Array{T,N}) at sparse/sparsematrix.jl:665                                                                     \n",
       " .\\(A::Array{T,N},B::SparseMatrixCSC{Tv,Ti<:Integer}) at sparse/sparsematrix.jl:666                                                                     \n",
       " ⋮                                                                                                                                                      \n",
       " read!(from::IOBuffer,a::Array{T,N}) at iobuffer.jl:55                                                                                                  \n",
       " read!{T}(s::IOStream,a::Array{T,N}) at iostream.jl:192                                                                                                 \n",
       " read!{T}(s::AsyncStream,a::Array{T,N}) at stream.jl:657                                                                                                \n",
       " read!{T}(f::File,a::Array{T,N}) at fs.jl:219                                                                                                           \n",
       " read!{T}(f::File,a::Array{T,N},nel) at fs.jl:219                                                                                                       \n",
       " read!{T}(s::IO,a::Array{T,N}) at io.jl:126                                                                                                             \n",
       " +(A::SparseMatrixCSC{Tv,Ti<:Integer},B::Array{T,N}) at sparse/sparsematrix.jl:643                                                                      \n",
       " +(A::Array{T,N},B::SparseMatrixCSC{Tv,Ti<:Integer}) at sparse/sparsematrix.jl:645                                                                      \n",
       " reinterpret{T,S}(::Type{T},a::Array{S,N}) at array.jl:66                                                                                               \n",
       " reinterpret{T,S,N}(::Type{T},a::Array{S,N},dims::NTuple{N,Int64}) at array.jl:73                                                                       \n",
       " slicedim(A::Array{T,N},d::Integer,i::Integer) at array.jl:847                                                                                          \n",
       " sub{T,N}(A::Array{T,N},i::(Range{Int64},)) at subarray.jl:52                                                                                           "
      ]
     },
     "execution_count": 45,
     "metadata": {},
     "output_type": "execute_result"
    }
   ],
   "source": [
    "#### To find all the methods associated with a type\n",
    "methodswith(Array)"
   ]
  },
  {
   "cell_type": "markdown",
   "metadata": {},
   "source": [
    "### Control flow "
   ]
  },
  {
   "cell_type": "code",
   "execution_count": 46,
   "metadata": {
    "collapsed": false
   },
   "outputs": [
    {
     "name": "stdout",
     "output_type": "stream",
     "text": [
      "The sum total is 55\n"
     ]
    }
   ],
   "source": [
    "total = 0\n",
    "for i in 1:10 # Range object just like in R\n",
    "    total += i\n",
    "end\n",
    "println(\"The sum total is $total\")"
   ]
  },
  {
   "cell_type": "code",
   "execution_count": 47,
   "metadata": {
    "collapsed": false
   },
   "outputs": [
    {
     "data": {
      "text/plain": [
       "5-element Array{Int64,1}:\n",
       " 1\n",
       " 3\n",
       " 5\n",
       " 7\n",
       " 9"
      ]
     },
     "execution_count": 47,
     "metadata": {},
     "output_type": "execute_result"
    }
   ],
   "source": [
    "[1:2:10]"
   ]
  },
  {
   "cell_type": "code",
   "execution_count": null,
   "metadata": {
    "collapsed": true
   },
   "outputs": [],
   "source": []
  },
  {
   "cell_type": "code",
   "execution_count": null,
   "metadata": {
    "collapsed": true
   },
   "outputs": [],
   "source": []
  },
  {
   "cell_type": "code",
   "execution_count": null,
   "metadata": {
    "collapsed": true
   },
   "outputs": [],
   "source": []
  },
  {
   "cell_type": "code",
   "execution_count": null,
   "metadata": {
    "collapsed": true
   },
   "outputs": [],
   "source": []
  },
  {
   "cell_type": "code",
   "execution_count": null,
   "metadata": {
    "collapsed": true
   },
   "outputs": [],
   "source": []
  },
  {
   "cell_type": "code",
   "execution_count": null,
   "metadata": {
    "collapsed": true
   },
   "outputs": [],
   "source": []
  },
  {
   "cell_type": "code",
   "execution_count": null,
   "metadata": {
    "collapsed": true
   },
   "outputs": [],
   "source": []
  }
 ],
 "metadata": {
  "kernelspec": {
   "display_name": "Julia 0.3.9",
   "language": "julia",
   "name": "julia-0.3"
  },
  "language_info": {
   "name": "julia",
   "version": "0.3.9"
  }
 },
 "nbformat": 4,
 "nbformat_minor": 0
}
