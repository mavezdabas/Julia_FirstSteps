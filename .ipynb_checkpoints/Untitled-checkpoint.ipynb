{
 "cells": [
  {
   "cell_type": "code",
   "execution_count": 7,
   "metadata": {
    "collapsed": false
   },
   "outputs": [
    {
     "name": "stderr",
     "output_type": "stream",
     "text": [
      "INFO: Nothing to be done\n",
      "INFO: Nothing to be done\n"
     ]
    }
   ],
   "source": [
    "## Image Loading\n",
    "# First we will work on installing and loading all the required Packages\n",
    "Pkg.add(\"Images\")\n",
    "Pkg.add(\"DataFrames\")\n",
    "using Images\n",
    "using DataFrames"
   ]
  },
  {
   "cell_type": "code",
   "execution_count": 10,
   "metadata": {
    "collapsed": false
   },
   "outputs": [],
   "source": [
    "#typeData could be either \"train\" or \"test.\n",
    "#labelsInfo should contain the IDs of each image to be read\n",
    "#The images in the trainResized and testResized data files\n",
    "#are 20x20 pixels, so imageSize is set to 400.\n",
    "#path should be set to the location of the data files.\n"
   ]
  },
  {
   "cell_type": "code",
   "execution_count": 15,
   "metadata": {
    "collapsed": false
   },
   "outputs": [
    {
     "data": {
      "text/plain": [
       "read_data (generic function with 1 method)"
      ]
     },
     "execution_count": 15,
     "metadata": {},
     "output_type": "execute_result"
    }
   ],
   "source": [
    "function read_data(typeData, labelsInfo, imageSize, path)\n",
    " # Intialize x matrix\n",
    " x = zeros(size(labelsInfo, 1), imageSize)\n",
    "\n",
    " for (index, idImage) in enumerate(labelsInfo[\"ID\"]) \n",
    "  # Read image file \n",
    "  nameFile = \"$(path)/$(typeData)Resized/$(idImage).Bmp\"\n",
    "  img = imread(nameFile)\n",
    "\n",
    "  # Convert img to float values \n",
    "  temp = float32sc(img)\n",
    "\n",
    "  # Convert color images to gray images\n",
    "  # by taking the average of the color scales. \n",
    "  if ndims(temp) == 3\n",
    "   temp = mean(temp.data, 1)\n",
    "  end\n",
    "    \n",
    "  # Transform image matrix to a vector and store \n",
    "  # it in data matrix \n",
    "  x[index, :] = reshape(temp, 1, imageSize)\n",
    " end \n",
    " return x\n",
    "end\n",
    "        \n",
    "        \n",
    "        "
   ]
  },
  {
   "cell_type": "code",
   "execution_count": null,
   "metadata": {
    "collapsed": true
   },
   "outputs": [],
   "source": [
    "## Training and test matrices can now be loaded using function read_data(). \n",
    "## Information about the labels can be read using the readtable() function:"
   ]
  },
  {
   "cell_type": "code",
   "execution_count": null,
   "metadata": {
    "collapsed": true
   },
   "outputs": [],
   "source": []
  }
 ],
 "metadata": {
  "kernelspec": {
   "display_name": "Julia 0.3.9",
   "language": "julia",
   "name": "julia-0.3"
  },
  "language_info": {
   "name": "julia",
   "version": "0.3.9"
  }
 },
 "nbformat": 4,
 "nbformat_minor": 0
}
